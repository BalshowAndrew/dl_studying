{
 "cells": [
  {
   "cell_type": "markdown",
   "id": "4a559ccf-e59d-47b6-9e6c-199bae79441c",
   "metadata": {},
   "source": [
    "# Сеть для классификации изображений"
   ]
  },
  {
   "cell_type": "markdown",
   "id": "6a0673fa-d6a9-49c7-9de1-7adf07d8f399",
   "metadata": {},
   "source": [
    "Датасет MNIST представляет из себя черно-белые изображения 28 на 28 пикселей"
   ]
  },
  {
   "cell_type": "code",
   "execution_count": 1,
   "id": "73cab95b-a9e2-4616-b30b-1eecd3ba2eee",
   "metadata": {},
   "outputs": [],
   "source": [
    "import os\n",
    "os.environ['TF_CPP_MIN_LOG_LEVEL'] = '2'"
   ]
  },
  {
   "cell_type": "code",
   "execution_count": 44,
   "id": "5a7717b1-8c88-4432-84d4-d085edf66d88",
   "metadata": {},
   "outputs": [],
   "source": [
    "import numpy as np\n",
    "import tensorflow as tf\n",
    "from tensorflow.keras.utils import to_categorical\n",
    "from keras import Sequential\n",
    "from keras.layers import Dense, Flatten"
   ]
  },
  {
   "cell_type": "markdown",
   "id": "eda19bca-b988-47f6-b19e-69b0baa06489",
   "metadata": {},
   "source": [
    "## Выгружаем данные"
   ]
  },
  {
   "cell_type": "code",
   "execution_count": 2,
   "id": "7a7035a1-cc6e-4846-a171-65533ea4a0b8",
   "metadata": {},
   "outputs": [
    {
     "data": {
      "text/plain": [
       "((60000, 28, 28), (10000, 28, 28))"
      ]
     },
     "execution_count": 2,
     "metadata": {},
     "output_type": "execute_result"
    }
   ],
   "source": [
    "from keras.datasets import mnist\n",
    "\n",
    "(X_train, y_train), (X_test, y_test) = mnist.load_data()\n",
    "\n",
    "X_train.shape, X_test.shape"
   ]
  },
  {
   "cell_type": "markdown",
   "id": "39a62f4d-d227-443f-b27e-12c29fffce2c",
   "metadata": {},
   "source": [
    "Отрисуем первые пять картинок:"
   ]
  },
  {
   "cell_type": "code",
   "execution_count": 3,
   "id": "e61e928b-3d38-4ad4-8022-1fe7552fa371",
   "metadata": {},
   "outputs": [
    {
     "data": {
      "image/png": "[encoded data removed]",
      "text/plain": [
       "<Figure size 1500x1000 with 5 Axes>"
      ]
     },
     "metadata": {},
     "output_type": "display_data"
    }
   ],
   "source": [
    "import matplotlib.pyplot as plt\n",
    "\n",
    "fig, ax = plt.subplots(1, 5, figsize=(15, 10))\n",
    "\n",
    "for i in range(5):\n",
    "    ax[i].imshow(X_train[i], cmap='gray')\n",
    "    ax[i].axis('off')"
   ]
  },
  {
   "cell_type": "code",
   "execution_count": 4,
   "id": "e1f02db9-c81d-4efd-873f-9c11f5f70a42",
   "metadata": {},
   "outputs": [
    {
     "data": {
      "text/plain": [
       "array([5, 0, 4, 1, 9], dtype=uint8)"
      ]
     },
     "execution_count": 4,
     "metadata": {},
     "output_type": "execute_result"
    }
   ],
   "source": [
    "y_train[:5]"
   ]
  },
  {
   "cell_type": "markdown",
   "id": "34a5729c-f4e8-4ecf-8038-147b3b3cb690",
   "metadata": {},
   "source": [
    "## Работаем с данными"
   ]
  },
  {
   "cell_type": "markdown",
   "id": "0c17919f-17b9-40ec-ada4-3576768b9db1",
   "metadata": {},
   "source": [
    "### Упрощаем задачу"
   ]
  },
  {
   "cell_type": "markdown",
   "id": "f4c644a6-069f-45f2-9b22-ce218f706001",
   "metadata": {},
   "source": [
    "Для простоты задачи возьмем для обучения только два класса, чтобы сделать задачу бинарной"
   ]
  },
  {
   "cell_type": "code",
   "execution_count": 9,
   "id": "5bf7eeaa-098f-4754-9284-9d358f83223c",
   "metadata": {},
   "outputs": [
    {
     "data": {
      "text/plain": [
       "(array([    0,     1,     2, ..., 12662, 12663, 12664]),)"
      ]
     },
     "execution_count": 9,
     "metadata": {},
     "output_type": "execute_result"
    }
   ],
   "source": [
    "idxs = np.where((y_train == 0) | (y_train == 1))\n",
    "idxs"
   ]
  },
  {
   "cell_type": "code",
   "execution_count": 10,
   "id": "56362fb6-9afd-45d7-9ac0-204fddc91928",
   "metadata": {},
   "outputs": [],
   "source": [
    "y_train = y_train[idxs]\n",
    "X_train = X_train[idxs]"
   ]
  },
  {
   "cell_type": "code",
   "execution_count": 11,
   "id": "bebe052d-a576-4e5f-a7f0-7bd72ab3e1a2",
   "metadata": {},
   "outputs": [
    {
     "data": {
      "text/plain": [
       "((12665, 28, 28), (12665,))"
      ]
     },
     "execution_count": 11,
     "metadata": {},
     "output_type": "execute_result"
    }
   ],
   "source": [
    "X_train.shape, y_train.shape"
   ]
  },
  {
   "cell_type": "markdown",
   "id": "2bfa855d-a6b0-4147-8137-74684e3c5876",
   "metadata": {},
   "source": [
    "И все то же самое для теста:"
   ]
  },
  {
   "cell_type": "code",
   "execution_count": 12,
   "id": "e8365589-0dae-439b-a4f6-6609dd197e60",
   "metadata": {},
   "outputs": [
    {
     "data": {
      "text/plain": [
       "(array([   2,    3,    5, ..., 9984, 9993, 9994]),)"
      ]
     },
     "execution_count": 12,
     "metadata": {},
     "output_type": "execute_result"
    }
   ],
   "source": [
    "idxs = np.where((y_test == 0) | (y_test == 1))\n",
    "idxs"
   ]
  },
  {
   "cell_type": "code",
   "execution_count": 13,
   "id": "6d73e336-e3e6-4713-89ec-c864c413708f",
   "metadata": {},
   "outputs": [],
   "source": [
    "y_test = y_test[idxs]\n",
    "X_test = X_test[idxs]"
   ]
  },
  {
   "cell_type": "code",
   "execution_count": 14,
   "id": "ff23ca8c-be1e-473f-8916-fdb623e9dec3",
   "metadata": {},
   "outputs": [
    {
     "data": {
      "text/plain": [
       "((2115, 28, 28), (2115,))"
      ]
     },
     "execution_count": 14,
     "metadata": {},
     "output_type": "execute_result"
    }
   ],
   "source": [
    "X_test.shape, y_test.shape"
   ]
  },
  {
   "cell_type": "markdown",
   "id": "547138ba-72a5-499c-b49f-5e7441c3a5da",
   "metadata": {},
   "source": [
    "Визуализируем:"
   ]
  },
  {
   "cell_type": "code",
   "execution_count": 16,
   "id": "66f66b55-fe21-455c-8484-58f6e017f365",
   "metadata": {},
   "outputs": [
    {
     "data": {
      "image/png": "[encoded data removed]",
      "text/plain": [
       "<Figure size 1500x1000 with 5 Axes>"
      ]
     },
     "metadata": {},
     "output_type": "display_data"
    }
   ],
   "source": [
    "fig, ax = plt.subplots(1, 5, figsize=(15, 10))\n",
    "\n",
    "for i in range(5):\n",
    "    ax[i].imshow(X_train[i], cmap='gray')\n",
    "    ax[i].axis('off')"
   ]
  },
  {
   "cell_type": "code",
   "execution_count": 17,
   "id": "7dd29250-e4a2-412a-97f9-a1d2549227d4",
   "metadata": {},
   "outputs": [
    {
     "data": {
      "text/plain": [
       "array([0, 1, 1, 1, 1], dtype=uint8)"
      ]
     },
     "execution_count": 17,
     "metadata": {},
     "output_type": "execute_result"
    }
   ],
   "source": [
    "y_train[:5]"
   ]
  },
  {
   "cell_type": "markdown",
   "id": "9524943a-7cb4-4444-af56-d88fdd403252",
   "metadata": {},
   "source": [
    "### Норминуем данные"
   ]
  },
  {
   "cell_type": "markdown",
   "id": "bbe8f051-9e13-4fe1-81b9-2efdc9848cb0",
   "metadata": {},
   "source": [
    "Размер пискеля в диапазоне от 0 до 255, а для нейросети комфортнее обучаться на диапазоне от 0 до 1. Поэтому надо сделать нормировку:"
   ]
  },
  {
   "cell_type": "code",
   "execution_count": 18,
   "id": "3325b1ea-ab4f-4a73-8b72-6ad4b4f8db2d",
   "metadata": {},
   "outputs": [
    {
     "name": "stdout",
     "output_type": "stream",
     "text": [
      "0 255\n",
      "0.0 1.0\n"
     ]
    }
   ],
   "source": [
    "print(X_train.min(), X_train.max())\n",
    "\n",
    "X_train = X_train / 255.0\n",
    "X_test = X_test / 255.0\n",
    "\n",
    "print(X_train.min(), X_train.max())"
   ]
  },
  {
   "cell_type": "markdown",
   "id": "228dc8a1-635c-4418-a630-ed7b51dc85bb",
   "metadata": {},
   "source": [
    "### Преобразуем метку класса"
   ]
  },
  {
   "cell_type": "markdown",
   "id": "2736ab42-e885-439c-a3e5-d5380fc48526",
   "metadata": {},
   "source": [
    "Нейросеть будет выдавать два значения: вероятнось принадлежности объекта к 0 и вероятность принадлежности объекта к 1. Следосательно, нам над изменить метку класса. Сейчас это лейбл 0 и 1, нужно преобразовать в бинарный вид. В результате получим два столбика:"
   ]
  },
  {
   "cell_type": "code",
   "execution_count": 24,
   "id": "14f9b3af-22c1-4b52-853e-29d284d75b91",
   "metadata": {},
   "outputs": [],
   "source": [
    "y_train_cat = to_categorical(y_train)\n",
    "y_test_cat = to_categorical(y_test)"
   ]
  },
  {
   "cell_type": "code",
   "execution_count": 25,
   "id": "559ea20e-f355-4a81-a923-ba84a8109bfd",
   "metadata": {},
   "outputs": [
    {
     "data": {
      "text/plain": [
       "array([0, 1, 1, 1, 1, 0, 1, 1, 0, 0], dtype=uint8)"
      ]
     },
     "execution_count": 25,
     "metadata": {},
     "output_type": "execute_result"
    }
   ],
   "source": [
    "y_train[:10]"
   ]
  },
  {
   "cell_type": "code",
   "execution_count": 27,
   "id": "3a47b8c5-11ac-430b-b0a0-71380d899915",
   "metadata": {},
   "outputs": [
    {
     "data": {
      "text/plain": [
       "array([[1., 0.],\n",
       "       [0., 1.],\n",
       "       [0., 1.],\n",
       "       [0., 1.],\n",
       "       [0., 1.],\n",
       "       [1., 0.],\n",
       "       [0., 1.],\n",
       "       [0., 1.],\n",
       "       [1., 0.],\n",
       "       [1., 0.]])"
      ]
     },
     "execution_count": 27,
     "metadata": {},
     "output_type": "execute_result"
    }
   ],
   "source": [
    "y_train_cat[:10]"
   ]
  },
  {
   "cell_type": "markdown",
   "id": "e828f188-ea03-4ac5-ab70-7d13623c5890",
   "metadata": {},
   "source": [
    "### Уменьшаем размер картинок"
   ]
  },
  {
   "cell_type": "markdown",
   "id": "a4700d91-5466-4b13-acc8-2702eb83d17e",
   "metadata": {},
   "source": [
    "Для более быстрого обучения сети уменьшим размеры картинок:"
   ]
  },
  {
   "cell_type": "code",
   "execution_count": 33,
   "id": "36159233-98a7-4572-8718-e4e7bcf315f7",
   "metadata": {},
   "outputs": [
    {
     "data": {
      "text/plain": [
       "(12665, 28, 28, 1)"
      ]
     },
     "execution_count": 33,
     "metadata": {},
     "output_type": "execute_result"
    }
   ],
   "source": [
    "X_train[..., np.newaxis].shape"
   ]
  },
  {
   "cell_type": "code",
   "execution_count": 34,
   "id": "8c109196-7c8a-423f-8594-2b5746bfd3a7",
   "metadata": {},
   "outputs": [
    {
     "data": {
      "image/png": "[encoded data removed]",
      "text/plain": [
       "<Figure size 1500x1000 with 5 Axes>"
      ]
     },
     "metadata": {},
     "output_type": "display_data"
    }
   ],
   "source": [
    "X_train_resized = tf.image.resize(X_train[..., np.newaxis], (6, 6))[..., 0]\n",
    "X_test_resized = tf.image.resize(X_test[..., np.newaxis], (6, 6))[..., 0]\n",
    "\n",
    "fig, ax = plt.subplots(1, 5, figsize=(15, 10))\n",
    "\n",
    "for i in range(5):\n",
    "    ax[i].imshow(X_train_resized[i], cmap='gray')\n",
    "    ax[i].axis('off')"
   ]
  },
  {
   "cell_type": "code",
   "execution_count": 36,
   "id": "07a68d72-9ff0-44bd-805f-81e7ce3a967f",
   "metadata": {},
   "outputs": [
    {
     "data": {
      "text/plain": [
       "TensorShape([12665, 6, 6])"
      ]
     },
     "execution_count": 36,
     "metadata": {},
     "output_type": "execute_result"
    }
   ],
   "source": [
    "X_train_resized.shape"
   ]
  },
  {
   "cell_type": "markdown",
   "id": "2fbd5cd6-5f4f-4d0d-b558-7ee5203d084b",
   "metadata": {},
   "source": [
    "## Обучение нейронной сери"
   ]
  },
  {
   "cell_type": "markdown",
   "id": "342cfecb-6951-47d4-a7da-1e741a30723f",
   "metadata": {},
   "source": [
    "### Какая архитектура сети?"
   ]
  },
  {
   "cell_type": "markdown",
   "id": "1458b4db-1a5c-444c-898f-7cb0e1655c84",
   "metadata": {},
   "source": [
    "На вход поступает изображение 6 х 6, с ним нужно что-то делать, так как наша сеть не умеет работать с двумерным входом. Надо вытянуть изображение в один вектор размерностью 36:"
   ]
  },
  {
   "cell_type": "markdown",
   "id": "4aa834d4-9e22-4368-a501-3eba72bd612b",
   "metadata": {},
   "source": [
    "Была матрица:"
   ]
  },
  {
   "cell_type": "code",
   "execution_count": 37,
   "id": "a007111c-7e77-4f46-b5a4-da51462147d4",
   "metadata": {},
   "outputs": [
    {
     "data": {
      "text/plain": [
       "array([[0.        , 0.        , 0.        , 0.        , 0.        ,\n",
       "        0.        ],\n",
       "       [0.        , 0.        , 0.03594765, 0.9888889 , 0.42941174,\n",
       "        0.        ],\n",
       "       [0.        , 0.00228757, 0.7885626 , 0.        , 0.9901961 ,\n",
       "        0.        ],\n",
       "       [0.        , 0.65588236, 0.        , 0.        , 0.88235307,\n",
       "        0.        ],\n",
       "       [0.        , 0.66078436, 0.5088234 , 0.7235297 , 0.        ,\n",
       "        0.        ],\n",
       "       [0.        , 0.        , 0.        , 0.        , 0.        ,\n",
       "        0.        ]], dtype=float32)"
      ]
     },
     "execution_count": 37,
     "metadata": {},
     "output_type": "execute_result"
    }
   ],
   "source": [
    "X_train_resized[0].numpy()"
   ]
  },
  {
   "cell_type": "code",
   "execution_count": 38,
   "id": "dd37c330-0931-4a5d-839e-6a81c2d98541",
   "metadata": {},
   "outputs": [
    {
     "data": {
      "text/plain": [
       "(6, 6)"
      ]
     },
     "execution_count": 38,
     "metadata": {},
     "output_type": "execute_result"
    }
   ],
   "source": [
    "X_train_resized[0].numpy().shape"
   ]
  },
  {
   "cell_type": "markdown",
   "id": "c3956afe-a5a3-4976-9958-63fb99cb3ed2",
   "metadata": {},
   "source": [
    "А теперь вектор:"
   ]
  },
  {
   "cell_type": "code",
   "execution_count": 39,
   "id": "9744a158-497d-434e-931b-a5fffaed7307",
   "metadata": {},
   "outputs": [
    {
     "data": {
      "text/plain": [
       "array([0.        , 0.        , 0.        , 0.        , 0.        ,\n",
       "       0.        , 0.        , 0.        , 0.03594765, 0.9888889 ,\n",
       "       0.42941174, 0.        , 0.        , 0.00228757, 0.7885626 ,\n",
       "       0.        , 0.9901961 , 0.        , 0.        , 0.65588236,\n",
       "       0.        , 0.        , 0.88235307, 0.        , 0.        ,\n",
       "       0.66078436, 0.5088234 , 0.7235297 , 0.        , 0.        ,\n",
       "       0.        , 0.        , 0.        , 0.        , 0.        ,\n",
       "       0.        ], dtype=float32)"
      ]
     },
     "execution_count": 39,
     "metadata": {},
     "output_type": "execute_result"
    }
   ],
   "source": [
    "X_train_resized[0].numpy().flatten()"
   ]
  },
  {
   "cell_type": "code",
   "execution_count": 40,
   "id": "93145b8f-8e00-41b4-9bf4-5ecae7b7add4",
   "metadata": {},
   "outputs": [
    {
     "data": {
      "text/plain": [
       "(36,)"
      ]
     },
     "execution_count": 40,
     "metadata": {},
     "output_type": "execute_result"
    }
   ],
   "source": [
    "X_train_resized[0].numpy().flatten().shape"
   ]
  },
  {
   "cell_type": "markdown",
   "id": "142075d1-b672-4551-98fd-8bcb27d81fe3",
   "metadata": {},
   "source": [
    "Наша сетка состоить из одного слоя:\n",
    "- У нашей сети **36 входов** (это наши пиксели, вытянутые в один вектор)\n",
    "- Они прогоняются через **два нейрона**. У каждого из которых есть 36 входов и bias\n",
    "- Каждый нейрон выдает **веротность**: **первый** - быть нулевым классом, а **второй** - быть первый классом"
   ]
  },
  {
   "cell_type": "code",
   "execution_count": 45,
   "id": "30bcfaea-c2ce-440f-b4b3-982a9a7926d2",
   "metadata": {},
   "outputs": [],
   "source": [
    "tf.random.set_seed(9)"
   ]
  },
  {
   "cell_type": "code",
   "execution_count": 49,
   "id": "93cdd5f1-44ab-4c59-b087-6edcfcd18885",
   "metadata": {},
   "outputs": [],
   "source": [
    "model = Sequential([\n",
    "    Flatten(input_shape=(6, 6)),    # слой для вытягивания матрицы в вектор\n",
    "    Dense(2, activation='sigmoid')  # полносвязный неронный слой\n",
    "])"
   ]
  },
  {
   "cell_type": "code",
   "execution_count": 50,
   "id": "21d90a35-9165-4928-949a-78736fc885d7",
   "metadata": {},
   "outputs": [
    {
     "data": {
      "text/html": [
       "<pre style=\"white-space:pre;overflow-x:auto;line-height:normal;font-family:Menlo,'DejaVu Sans Mono',consolas,'Courier New',monospace\"><span style=\"font-weight: bold\">Model: \"sequential_2\"</span>\n",
       "</pre>\n"
      ],
      "text/plain": [
       "\u001b[1mModel: \"sequential_2\"\u001b[0m\n"
      ]
     },
     "metadata": {},
     "output_type": "display_data"
    },
    {
     "data": {
      "text/html": [
       "<pre style=\"white-space:pre;overflow-x:auto;line-height:normal;font-family:Menlo,'DejaVu Sans Mono',consolas,'Courier New',monospace\">┏━━━━━━━━━━━━━━━━━━━━━━━━━━━━━━━━━┳━━━━━━━━━━━━━━━━━━━━━━━━┳━━━━━━━━━━━━━━━┓\n",
       "┃<span style=\"font-weight: bold\"> Layer (type)                    </span>┃<span style=\"font-weight: bold\"> Output Shape           </span>┃<span style=\"font-weight: bold\">       Param # </span>┃\n",
       "┡━━━━━━━━━━━━━━━━━━━━━━━━━━━━━━━━━╇━━━━━━━━━━━━━━━━━━━━━━━━╇━━━━━━━━━━━━━━━┩\n",
       "│ flatten_2 (<span style=\"color: #0087ff; text-decoration-color: #0087ff\">Flatten</span>)             │ (<span style=\"color: #00d7ff; text-decoration-color: #00d7ff\">None</span>, <span style=\"color: #00af00; text-decoration-color: #00af00\">36</span>)             │             <span style=\"color: #00af00; text-decoration-color: #00af00\">0</span> │\n",
       "├─────────────────────────────────┼────────────────────────┼───────────────┤\n",
       "│ dense_2 (<span style=\"color: #0087ff; text-decoration-color: #0087ff\">Dense</span>)                 │ (<span style=\"color: #00d7ff; text-decoration-color: #00d7ff\">None</span>, <span style=\"color: #00af00; text-decoration-color: #00af00\">2</span>)              │            <span style=\"color: #00af00; text-decoration-color: #00af00\">74</span> │\n",
       "└─────────────────────────────────┴────────────────────────┴───────────────┘\n",
       "</pre>\n"
      ],
      "text/plain": [
       "┏━━━━━━━━━━━━━━━━━━━━━━━━━━━━━━━━━┳━━━━━━━━━━━━━━━━━━━━━━━━┳━━━━━━━━━━━━━━━┓\n",
       "┃\u001b[1m \u001b[0m\u001b[1mLayer (type)                   \u001b[0m\u001b[1m \u001b[0m┃\u001b[1m \u001b[0m\u001b[1mOutput Shape          \u001b[0m\u001b[1m \u001b[0m┃\u001b[1m \u001b[0m\u001b[1m      Param #\u001b[0m\u001b[1m \u001b[0m┃\n",
       "┡━━━━━━━━━━━━━━━━━━━━━━━━━━━━━━━━━╇━━━━━━━━━━━━━━━━━━━━━━━━╇━━━━━━━━━━━━━━━┩\n",
       "│ flatten_2 (\u001b[38;5;33mFlatten\u001b[0m)             │ (\u001b[38;5;45mNone\u001b[0m, \u001b[38;5;34m36\u001b[0m)             │             \u001b[38;5;34m0\u001b[0m │\n",
       "├─────────────────────────────────┼────────────────────────┼───────────────┤\n",
       "│ dense_2 (\u001b[38;5;33mDense\u001b[0m)                 │ (\u001b[38;5;45mNone\u001b[0m, \u001b[38;5;34m2\u001b[0m)              │            \u001b[38;5;34m74\u001b[0m │\n",
       "└─────────────────────────────────┴────────────────────────┴───────────────┘\n"
      ]
     },
     "metadata": {},
     "output_type": "display_data"
    },
    {
     "data": {
      "text/html": [
       "<pre style=\"white-space:pre;overflow-x:auto;line-height:normal;font-family:Menlo,'DejaVu Sans Mono',consolas,'Courier New',monospace\"><span style=\"font-weight: bold\"> Total params: </span><span style=\"color: #00af00; text-decoration-color: #00af00\">74</span> (296.00 B)\n",
       "</pre>\n"
      ],
      "text/plain": [
       "\u001b[1m Total params: \u001b[0m\u001b[38;5;34m74\u001b[0m (296.00 B)\n"
      ]
     },
     "metadata": {},
     "output_type": "display_data"
    },
    {
     "data": {
      "text/html": [
       "<pre style=\"white-space:pre;overflow-x:auto;line-height:normal;font-family:Menlo,'DejaVu Sans Mono',consolas,'Courier New',monospace\"><span style=\"font-weight: bold\"> Trainable params: </span><span style=\"color: #00af00; text-decoration-color: #00af00\">74</span> (296.00 B)\n",
       "</pre>\n"
      ],
      "text/plain": [
       "\u001b[1m Trainable params: \u001b[0m\u001b[38;5;34m74\u001b[0m (296.00 B)\n"
      ]
     },
     "metadata": {},
     "output_type": "display_data"
    },
    {
     "data": {
      "text/html": [
       "<pre style=\"white-space:pre;overflow-x:auto;line-height:normal;font-family:Menlo,'DejaVu Sans Mono',consolas,'Courier New',monospace\"><span style=\"font-weight: bold\"> Non-trainable params: </span><span style=\"color: #00af00; text-decoration-color: #00af00\">0</span> (0.00 B)\n",
       "</pre>\n"
      ],
      "text/plain": [
       "\u001b[1m Non-trainable params: \u001b[0m\u001b[38;5;34m0\u001b[0m (0.00 B)\n"
      ]
     },
     "metadata": {},
     "output_type": "display_data"
    }
   ],
   "source": [
    "model.summary()"
   ]
  },
  {
   "cell_type": "markdown",
   "id": "79247ac8-f6e1-4cf4-9e4b-1fbdeacdc59f",
   "metadata": {},
   "source": [
    "### Что будем оптимизировать?"
   ]
  },
  {
   "cell_type": "markdown",
   "id": "c9998633-e4a2-4317-8c32-1cf0d34de004",
   "metadata": {},
   "source": [
    "- Выбираем бинарную кросс-энтропию\n",
    "- Еще будем считать метрику accuracy"
   ]
  },
  {
   "cell_type": "markdown",
   "id": "1d2e1a44-0009-48ed-84c0-6cfe44f02d89",
   "metadata": {},
   "source": [
    "### Как оптимизируем?"
   ]
  },
  {
   "cell_type": "markdown",
   "id": "e5de7359-98e1-42c8-a9ed-e3cda3691d38",
   "metadata": {},
   "source": [
    "- Возьмем тот же градиетный спуск со стохастикой "
   ]
  },
  {
   "cell_type": "code",
   "execution_count": 52,
   "id": "6a16655e-83ad-4264-96ac-8b09aef7d773",
   "metadata": {},
   "outputs": [],
   "source": [
    "model.compile(optimizer='sgd', loss='binary_crossentropy', metrics=['accuracy'])"
   ]
  },
  {
   "cell_type": "markdown",
   "id": "0f2d640d-894e-472d-a9f5-ed600fa80028",
   "metadata": {},
   "source": [
    "### Обучим модель"
   ]
  },
  {
   "cell_type": "code",
   "execution_count": 54,
   "id": "5ec465f0-9dfb-43d4-bfd1-e6e6b2a6f457",
   "metadata": {},
   "outputs": [
    {
     "name": "stdout",
     "output_type": "stream",
     "text": [
      "Epoch 1/5\n",
      "\u001b[1m396/396\u001b[0m \u001b[32m━━━━━━━━━━━━━━━━━━━━\u001b[0m\u001b[37m\u001b[0m \u001b[1m0s\u001b[0m 840us/step - accuracy: 0.9802 - loss: 0.2610\n",
      "Epoch 2/5\n",
      "\u001b[1m396/396\u001b[0m \u001b[32m━━━━━━━━━━━━━━━━━━━━\u001b[0m\u001b[37m\u001b[0m \u001b[1m0s\u001b[0m 810us/step - accuracy: 0.9801 - loss: 0.2388\n",
      "Epoch 3/5\n",
      "\u001b[1m396/396\u001b[0m \u001b[32m━━━━━━━━━━━━━━━━━━━━\u001b[0m\u001b[37m\u001b[0m \u001b[1m0s\u001b[0m 795us/step - accuracy: 0.9803 - loss: 0.2211\n",
      "Epoch 4/5\n",
      "\u001b[1m396/396\u001b[0m \u001b[32m━━━━━━━━━━━━━━━━━━━━\u001b[0m\u001b[37m\u001b[0m \u001b[1m0s\u001b[0m 816us/step - accuracy: 0.9805 - loss: 0.2067\n",
      "Epoch 5/5\n",
      "\u001b[1m396/396\u001b[0m \u001b[32m━━━━━━━━━━━━━━━━━━━━\u001b[0m\u001b[37m\u001b[0m \u001b[1m0s\u001b[0m 750us/step - accuracy: 0.9805 - loss: 0.1946\n",
      "CPU times: user 2.17 s, sys: 141 ms, total: 2.31 s\n",
      "Wall time: 1.77 s\n"
     ]
    },
    {
     "data": {
      "text/plain": [
       "<keras.src.callbacks.history.History at 0x7f4213ffa190>"
      ]
     },
     "execution_count": 54,
     "metadata": {},
     "output_type": "execute_result"
    }
   ],
   "source": [
    "%%time\n",
    "model.fit(X_train_resized, y_train_cat, epochs=5)"
   ]
  },
  {
   "cell_type": "markdown",
   "id": "849bd7c2-246a-409a-9607-f1d704755c56",
   "metadata": {},
   "source": [
    "## Сделаем предсказание"
   ]
  },
  {
   "cell_type": "markdown",
   "id": "64987110-59b1-4b68-b1c2-51dc7e7fb5cc",
   "metadata": {},
   "source": [
    "### На одной тестовой точке"
   ]
  },
  {
   "cell_type": "code",
   "execution_count": 55,
   "id": "cd15cd81-4254-43ea-9a1e-80fab6e97afd",
   "metadata": {},
   "outputs": [
    {
     "name": "stdout",
     "output_type": "stream",
     "text": [
      "Предсказание нейронной сети: \n",
      "\u001b[1m1/1\u001b[0m \u001b[32m━━━━━━━━━━━━━━━━━━━━\u001b[0m\u001b[37m\u001b[0m \u001b[1m0s\u001b[0m 62ms/step\n"
     ]
    },
    {
     "data": {
      "text/plain": [
       "array([[0.12380333, 0.86137944]], dtype=float32)"
      ]
     },
     "execution_count": 55,
     "metadata": {},
     "output_type": "execute_result"
    }
   ],
   "source": [
    "print(\"Предсказание нейронной сети: \")\n",
    "pred = model.predict(X_test_resized[:1])\n",
    "pred"
   ]
  },
  {
   "cell_type": "markdown",
   "id": "cc3f1701-9ef5-4671-891b-dcf00b735031",
   "metadata": {},
   "source": [
    "В результате получили список из двух значений: вероятность быть нулевым классом и вероятность быть первым классом."
   ]
  },
  {
   "cell_type": "markdown",
   "id": "eee44dee-7471-4a7b-9f20-b87aeac8fbfd",
   "metadata": {},
   "source": [
    "Чтобы выдать финальную метку класса можем взять класс, где максимальная предсказанная вероятность:"
   ]
  },
  {
   "cell_type": "code",
   "execution_count": 57,
   "id": "fdd2e20e-3663-4a65-9ea8-384f53b94290",
   "metadata": {},
   "outputs": [
    {
     "data": {
      "text/plain": [
       "1"
      ]
     },
     "execution_count": 57,
     "metadata": {},
     "output_type": "execute_result"
    }
   ],
   "source": [
    "pred_cls = pred.argmax()\n",
    "pred_cls"
   ]
  },
  {
   "cell_type": "code",
   "execution_count": 58,
   "id": "5e9c44a7-d117-42e3-bc14-10b4ca5954d3",
   "metadata": {},
   "outputs": [
    {
     "data": {
      "image/png": "[encoded data removed]",
      "text/plain": [
       "<Figure size 640x480 with 1 Axes>"
      ]
     },
     "metadata": {},
     "output_type": "display_data"
    }
   ],
   "source": [
    "idx = 0\n",
    "plt.imshow(X_test_resized[idx])\n",
    "plt.title(f'pred {pred_cls}, true {y_test[idx]}');"
   ]
  },
  {
   "cell_type": "markdown",
   "id": "80f44477-8738-4faa-98e1-07bbb875dd31",
   "metadata": {},
   "source": [
    "Посмотрим на исходное изборажение до уменьшения размера"
   ]
  },
  {
   "cell_type": "code",
   "execution_count": 59,
   "id": "7ea1f6e9-d679-4265-b0a6-59565d6deb72",
   "metadata": {},
   "outputs": [
    {
     "data": {
      "image/png": "[encoded data removed]",
      "text/plain": [
       "<Figure size 640x480 with 1 Axes>"
      ]
     },
     "metadata": {},
     "output_type": "display_data"
    }
   ],
   "source": [
    "plt.imshow(X_test[idx])\n",
    "plt.title(f\"pred {pred_cls}, true {y_test[idx]}\");"
   ]
  },
  {
   "cell_type": "markdown",
   "id": "544b44f7-cf7f-4722-b9a5-3aeab7e4a5ad",
   "metadata": {},
   "source": [
    "### На всех тестовых объектах"
   ]
  },
  {
   "cell_type": "code",
   "execution_count": 60,
   "id": "25676705-3862-4fe8-8e9b-8e04482b35e9",
   "metadata": {},
   "outputs": [
    {
     "name": "stdout",
     "output_type": "stream",
     "text": [
      "\u001b[1m67/67\u001b[0m \u001b[32m━━━━━━━━━━━━━━━━━━━━\u001b[0m\u001b[37m\u001b[0m \u001b[1m0s\u001b[0m 864us/step\n"
     ]
    },
    {
     "data": {
      "text/plain": [
       "array([[0.12380333, 0.86137944],\n",
       "       [0.9480692 , 0.05773922],\n",
       "       [0.09125636, 0.90169764],\n",
       "       ...,\n",
       "       [0.07483093, 0.9216793 ],\n",
       "       [0.94150066, 0.09788344],\n",
       "       [0.09944493, 0.9048685 ]], dtype=float32)"
      ]
     },
     "execution_count": 60,
     "metadata": {},
     "output_type": "execute_result"
    }
   ],
   "source": [
    "preds = model.predict(X_test_resized)\n",
    "preds"
   ]
  },
  {
   "cell_type": "code",
   "execution_count": 61,
   "id": "0755fcc8-9a8b-49da-9255-f65bb6400bfd",
   "metadata": {},
   "outputs": [
    {
     "data": {
      "text/plain": [
       "array([1, 0, 1, ..., 1, 0, 1])"
      ]
     },
     "execution_count": 61,
     "metadata": {},
     "output_type": "execute_result"
    }
   ],
   "source": [
    "preds_cls = preds.argmax(axis=1)\n",
    "preds_cls"
   ]
  },
  {
   "cell_type": "markdown",
   "id": "c9769cf2-f916-46a6-9da3-514f21a4ffd1",
   "metadata": {},
   "source": [
    "### Считаем метрики качества"
   ]
  },
  {
   "cell_type": "code",
   "execution_count": 62,
   "id": "9a0ccdea-00b1-4213-952e-3e00518c959e",
   "metadata": {},
   "outputs": [],
   "source": [
    "from sklearn.metrics import accuracy_score"
   ]
  },
  {
   "cell_type": "code",
   "execution_count": 64,
   "id": "97d4e68d-9976-4802-9c9f-6c36a781e8f2",
   "metadata": {},
   "outputs": [
    {
     "name": "stdout",
     "output_type": "stream",
     "text": [
      "test acc:  98.723404% (2088 out of 2115)\n"
     ]
    }
   ],
   "source": [
    "print(f\"test acc: {accuracy_score(y_test, preds_cls)*100: 2f}% ({(y_test == preds_cls).sum()} out of {y_test.shape[0]})\")"
   ]
  },
  {
   "cell_type": "markdown",
   "id": "dfe4a7d7-2bf3-4fd4-b946-d53b5b482aea",
   "metadata": {},
   "source": [
    "Очень хороший результат: угадали 2088 объектов из 2115"
   ]
  },
  {
   "cell_type": "code",
   "execution_count": null,
   "id": "7d6d65d3-0f18-463e-a4ab-d2afc88c7882",
   "metadata": {},
   "outputs": [],
   "source": []
  }
 ],
 "metadata": {
  "kernelspec": {
   "display_name": "Python 3 (ipykernel)",
   "language": "python",
   "name": "python3"
  },
  "language_info": {
   "codemirror_mode": {
    "name": "ipython",
    "version": 3
   },
   "file_extension": ".py",
   "mimetype": "text/x-python",
   "name": "python",
   "nbconvert_exporter": "python",
   "pygments_lexer": "ipython3",
   "version": "3.11.8"
  }
 },
 "nbformat": 4,
 "nbformat_minor": 5
}
